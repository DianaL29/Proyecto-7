{
 "cells": [
  {
   "cell_type": "code",
   "execution_count": null,
   "metadata": {},
   "outputs": [],
   "source": [
    "import pandas as pd\n",
    "import plotly.express as px\n",
    "\n",
    "# Cargar el conjunto de datos\n",
    "df = pd.read_csv(\"vehicles_us.csv\")  \n",
    "\n",
    "# Mostrar las primeras filas\n",
    "df.head()\n",
    "\n",
    "#Histograma de edades\n",
    "fig = px.histogram(df, x=\"age\", title=\"Distribución de edades\")\n",
    "fig.show()\n",
    "\n",
    "#Desarrollo del cuadro de mandos\n",
    "import streamlit as st\n",
    "import plotly.express as px\n",
    "\n",
    "# Encabezado\n",
    "st.header(\"Cuadro de Mandos: Análisis de Datos\")\n",
    "\n",
    "# Cargar los datos\n",
    "df = pd.read_csv(\"nombre_del_archivo.csv\")  # Cambia el nombre del archivo CSV\n",
    "st.write(\"Vista previa de los datos:\")\n",
    "st.write(df.head())  # Muestra las primeras filas\n",
    "\n",
    "# Botón para mostrar un histograma\n",
    "if st.button(\"Mostrar Histograma de Precios\"):\n",
    "    fig = px.histogram(df, x=\"price\", nbins=50, title=\"Distribución de Precios\")\n",
    "    st.plotly_chart(fig)\n"
   ]
  }
 ],
 "metadata": {
  "kernelspec": {
   "display_name": "base",
   "language": "python",
   "name": "python3"
  },
  "language_info": {
   "name": "python",
   "version": "3.12.7"
  }
 },
 "nbformat": 4,
 "nbformat_minor": 2
}
